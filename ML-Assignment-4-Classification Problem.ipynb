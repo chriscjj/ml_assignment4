{
 "cells": [
  {
   "cell_type": "markdown",
   "id": "a6f043e1-b827-4687-8250-4da3a8f3bd23",
   "metadata": {},
   "source": [
    "# 1. Import Libraries and Load Dataset"
   ]
  },
  {
   "cell_type": "markdown",
   "id": "d72aa4cd-30c4-4b8d-85fe-29312cdedd2a",
   "metadata": {},
   "source": [
    "## 1. Loading the Dataset:\n",
    "   - The Breast Cancer dataset from sklearn contains 569 samples and 30 numerical features. It also has a binary target (0 for malignant, 1 for benign).\n",
    "   - It is suitable for binary classification problems.\n",
    "\n",
    "## 2. Checking for Missing Values:\n",
    "   - First, I checked for missing values using df.isnull().sum().\n",
    "   - No missing values were found in the dataset, so no imputation was necessary.\n",
    "\n",
    "## 3. Splitting the Data:\n",
    "   - The data was divided into training and testing sets using train_test_split (80% training, 20% testing).\n",
    "   - This ensures the model generalizes well on unseen data.\n",
    "\n",
    "## 4. Feature Scaling:\n",
    "   - Since the dataset contains features with varying ranges, Standard Scaling was applied using StandardScaler().\n",
    "   - StandardScaler transforms the data to have a mean of 0 and a standard deviation of 1.\n",
    "   - Scaling is essential for algorithms like Logistic Regression, SVM, and k-NN, which are sensitive to feature magnitudes."
   ]
  },
  {
   "cell_type": "code",
   "execution_count": 6,
   "id": "e11f1ddd-0135-4cef-9a4c-4f484267bd66",
   "metadata": {},
   "outputs": [
    {
     "data": {
      "text/html": [
       "<div>\n",
       "<style scoped>\n",
       "    .dataframe tbody tr th:only-of-type {\n",
       "        vertical-align: middle;\n",
       "    }\n",
       "\n",
       "    .dataframe tbody tr th {\n",
       "        vertical-align: top;\n",
       "    }\n",
       "\n",
       "    .dataframe thead th {\n",
       "        text-align: right;\n",
       "    }\n",
       "</style>\n",
       "<table border=\"1\" class=\"dataframe\">\n",
       "  <thead>\n",
       "    <tr style=\"text-align: right;\">\n",
       "      <th></th>\n",
       "      <th>mean radius</th>\n",
       "      <th>mean texture</th>\n",
       "      <th>mean perimeter</th>\n",
       "      <th>mean area</th>\n",
       "      <th>mean smoothness</th>\n",
       "      <th>mean compactness</th>\n",
       "      <th>mean concavity</th>\n",
       "      <th>mean concave points</th>\n",
       "      <th>mean symmetry</th>\n",
       "      <th>mean fractal dimension</th>\n",
       "      <th>...</th>\n",
       "      <th>worst texture</th>\n",
       "      <th>worst perimeter</th>\n",
       "      <th>worst area</th>\n",
       "      <th>worst smoothness</th>\n",
       "      <th>worst compactness</th>\n",
       "      <th>worst concavity</th>\n",
       "      <th>worst concave points</th>\n",
       "      <th>worst symmetry</th>\n",
       "      <th>worst fractal dimension</th>\n",
       "      <th>target</th>\n",
       "    </tr>\n",
       "  </thead>\n",
       "  <tbody>\n",
       "    <tr>\n",
       "      <th>0</th>\n",
       "      <td>17.99</td>\n",
       "      <td>10.38</td>\n",
       "      <td>122.80</td>\n",
       "      <td>1001.0</td>\n",
       "      <td>0.11840</td>\n",
       "      <td>0.27760</td>\n",
       "      <td>0.3001</td>\n",
       "      <td>0.14710</td>\n",
       "      <td>0.2419</td>\n",
       "      <td>0.07871</td>\n",
       "      <td>...</td>\n",
       "      <td>17.33</td>\n",
       "      <td>184.60</td>\n",
       "      <td>2019.0</td>\n",
       "      <td>0.1622</td>\n",
       "      <td>0.6656</td>\n",
       "      <td>0.7119</td>\n",
       "      <td>0.2654</td>\n",
       "      <td>0.4601</td>\n",
       "      <td>0.11890</td>\n",
       "      <td>0</td>\n",
       "    </tr>\n",
       "    <tr>\n",
       "      <th>1</th>\n",
       "      <td>20.57</td>\n",
       "      <td>17.77</td>\n",
       "      <td>132.90</td>\n",
       "      <td>1326.0</td>\n",
       "      <td>0.08474</td>\n",
       "      <td>0.07864</td>\n",
       "      <td>0.0869</td>\n",
       "      <td>0.07017</td>\n",
       "      <td>0.1812</td>\n",
       "      <td>0.05667</td>\n",
       "      <td>...</td>\n",
       "      <td>23.41</td>\n",
       "      <td>158.80</td>\n",
       "      <td>1956.0</td>\n",
       "      <td>0.1238</td>\n",
       "      <td>0.1866</td>\n",
       "      <td>0.2416</td>\n",
       "      <td>0.1860</td>\n",
       "      <td>0.2750</td>\n",
       "      <td>0.08902</td>\n",
       "      <td>0</td>\n",
       "    </tr>\n",
       "    <tr>\n",
       "      <th>2</th>\n",
       "      <td>19.69</td>\n",
       "      <td>21.25</td>\n",
       "      <td>130.00</td>\n",
       "      <td>1203.0</td>\n",
       "      <td>0.10960</td>\n",
       "      <td>0.15990</td>\n",
       "      <td>0.1974</td>\n",
       "      <td>0.12790</td>\n",
       "      <td>0.2069</td>\n",
       "      <td>0.05999</td>\n",
       "      <td>...</td>\n",
       "      <td>25.53</td>\n",
       "      <td>152.50</td>\n",
       "      <td>1709.0</td>\n",
       "      <td>0.1444</td>\n",
       "      <td>0.4245</td>\n",
       "      <td>0.4504</td>\n",
       "      <td>0.2430</td>\n",
       "      <td>0.3613</td>\n",
       "      <td>0.08758</td>\n",
       "      <td>0</td>\n",
       "    </tr>\n",
       "    <tr>\n",
       "      <th>3</th>\n",
       "      <td>11.42</td>\n",
       "      <td>20.38</td>\n",
       "      <td>77.58</td>\n",
       "      <td>386.1</td>\n",
       "      <td>0.14250</td>\n",
       "      <td>0.28390</td>\n",
       "      <td>0.2414</td>\n",
       "      <td>0.10520</td>\n",
       "      <td>0.2597</td>\n",
       "      <td>0.09744</td>\n",
       "      <td>...</td>\n",
       "      <td>26.50</td>\n",
       "      <td>98.87</td>\n",
       "      <td>567.7</td>\n",
       "      <td>0.2098</td>\n",
       "      <td>0.8663</td>\n",
       "      <td>0.6869</td>\n",
       "      <td>0.2575</td>\n",
       "      <td>0.6638</td>\n",
       "      <td>0.17300</td>\n",
       "      <td>0</td>\n",
       "    </tr>\n",
       "    <tr>\n",
       "      <th>4</th>\n",
       "      <td>20.29</td>\n",
       "      <td>14.34</td>\n",
       "      <td>135.10</td>\n",
       "      <td>1297.0</td>\n",
       "      <td>0.10030</td>\n",
       "      <td>0.13280</td>\n",
       "      <td>0.1980</td>\n",
       "      <td>0.10430</td>\n",
       "      <td>0.1809</td>\n",
       "      <td>0.05883</td>\n",
       "      <td>...</td>\n",
       "      <td>16.67</td>\n",
       "      <td>152.20</td>\n",
       "      <td>1575.0</td>\n",
       "      <td>0.1374</td>\n",
       "      <td>0.2050</td>\n",
       "      <td>0.4000</td>\n",
       "      <td>0.1625</td>\n",
       "      <td>0.2364</td>\n",
       "      <td>0.07678</td>\n",
       "      <td>0</td>\n",
       "    </tr>\n",
       "  </tbody>\n",
       "</table>\n",
       "<p>5 rows × 31 columns</p>\n",
       "</div>"
      ],
      "text/plain": [
       "   mean radius  mean texture  mean perimeter  mean area  mean smoothness  \\\n",
       "0        17.99         10.38          122.80     1001.0          0.11840   \n",
       "1        20.57         17.77          132.90     1326.0          0.08474   \n",
       "2        19.69         21.25          130.00     1203.0          0.10960   \n",
       "3        11.42         20.38           77.58      386.1          0.14250   \n",
       "4        20.29         14.34          135.10     1297.0          0.10030   \n",
       "\n",
       "   mean compactness  mean concavity  mean concave points  mean symmetry  \\\n",
       "0           0.27760          0.3001              0.14710         0.2419   \n",
       "1           0.07864          0.0869              0.07017         0.1812   \n",
       "2           0.15990          0.1974              0.12790         0.2069   \n",
       "3           0.28390          0.2414              0.10520         0.2597   \n",
       "4           0.13280          0.1980              0.10430         0.1809   \n",
       "\n",
       "   mean fractal dimension  ...  worst texture  worst perimeter  worst area  \\\n",
       "0                 0.07871  ...          17.33           184.60      2019.0   \n",
       "1                 0.05667  ...          23.41           158.80      1956.0   \n",
       "2                 0.05999  ...          25.53           152.50      1709.0   \n",
       "3                 0.09744  ...          26.50            98.87       567.7   \n",
       "4                 0.05883  ...          16.67           152.20      1575.0   \n",
       "\n",
       "   worst smoothness  worst compactness  worst concavity  worst concave points  \\\n",
       "0            0.1622             0.6656           0.7119                0.2654   \n",
       "1            0.1238             0.1866           0.2416                0.1860   \n",
       "2            0.1444             0.4245           0.4504                0.2430   \n",
       "3            0.2098             0.8663           0.6869                0.2575   \n",
       "4            0.1374             0.2050           0.4000                0.1625   \n",
       "\n",
       "   worst symmetry  worst fractal dimension  target  \n",
       "0          0.4601                  0.11890       0  \n",
       "1          0.2750                  0.08902       0  \n",
       "2          0.3613                  0.08758       0  \n",
       "3          0.6638                  0.17300       0  \n",
       "4          0.2364                  0.07678       0  \n",
       "\n",
       "[5 rows x 31 columns]"
      ]
     },
     "execution_count": 6,
     "metadata": {},
     "output_type": "execute_result"
    }
   ],
   "source": [
    "import pandas as pd\n",
    "import numpy as np\n",
    "from sklearn import datasets\n",
    "from sklearn.model_selection import train_test_split\n",
    "from sklearn.preprocessing import StandardScaler\n",
    "from sklearn.linear_model import LogisticRegression\n",
    "from sklearn.tree import DecisionTreeClassifier\n",
    "from sklearn.ensemble import RandomForestClassifier\n",
    "from sklearn.svm import SVC\n",
    "from sklearn.neighbors import KNeighborsClassifier\n",
    "from sklearn.metrics import accuracy_score, confusion_matrix, classification_report\n",
    "\n",
    "data = datasets.load_breast_cancer()\n",
    "\n",
    "df = pd.DataFrame(data.data, columns=data.feature_names)\n",
    "df['target'] = data.target\n",
    "\n",
    "df.head()"
   ]
  },
  {
   "cell_type": "markdown",
   "id": "3740e8c3-82b5-4931-b8a5-4191d0a59d4b",
   "metadata": {},
   "source": [
    "# 2. Preprocessing the Data\n",
    "- Check for Missing Values\n",
    "- Perform Feature Scaling"
   ]
  },
  {
   "cell_type": "code",
   "execution_count": 9,
   "id": "6e8dc38f-a11e-436b-929b-9ca55a141655",
   "metadata": {},
   "outputs": [
    {
     "name": "stdout",
     "output_type": "stream",
     "text": [
      "Missing Values:\n",
      " mean radius                0\n",
      "mean texture               0\n",
      "mean perimeter             0\n",
      "mean area                  0\n",
      "mean smoothness            0\n",
      "mean compactness           0\n",
      "mean concavity             0\n",
      "mean concave points        0\n",
      "mean symmetry              0\n",
      "mean fractal dimension     0\n",
      "radius error               0\n",
      "texture error              0\n",
      "perimeter error            0\n",
      "area error                 0\n",
      "smoothness error           0\n",
      "compactness error          0\n",
      "concavity error            0\n",
      "concave points error       0\n",
      "symmetry error             0\n",
      "fractal dimension error    0\n",
      "worst radius               0\n",
      "worst texture              0\n",
      "worst perimeter            0\n",
      "worst area                 0\n",
      "worst smoothness           0\n",
      "worst compactness          0\n",
      "worst concavity            0\n",
      "worst concave points       0\n",
      "worst symmetry             0\n",
      "worst fractal dimension    0\n",
      "target                     0\n",
      "dtype: int64\n"
     ]
    }
   ],
   "source": [
    "print(\"Missing Values:\\n\", df.isnull().sum())\n",
    "\n",
    "# Separate features and target\n",
    "X = df.drop('target', axis=1)\n",
    "y = df['target']\n",
    "\n",
    "X_train, X_test, y_train, y_test = train_test_split(X, y, test_size=0.2, random_state=42)\n",
    "\n",
    "scaler = StandardScaler()\n",
    "X_train_scaled = scaler.fit_transform(X_train)\n",
    "X_test_scaled = scaler.transform(X_test)"
   ]
  },
  {
   "cell_type": "markdown",
   "id": "93bde480-23b7-4d3a-bc25-4e1600450269",
   "metadata": {},
   "source": [
    "# 3. Implement Classification Algorithms"
   ]
  },
  {
   "cell_type": "markdown",
   "id": "f0a2defd-d80c-475d-bdcf-f3b466aef9be",
   "metadata": {},
   "source": [
    "## 1. Logistic Regression\n",
    "\n",
    "### Description:\n",
    "   - Logistic Regression is a linear model that uses the sigmoid function to predict probabilities for a binary classification problem.\n",
    "   - The model finds the best linear boundary to separate classes.\n",
    "\n",
    "### Why Suitable?\n",
    "   - Effective for linearly separable data.\n",
    "   - Provides probabilistic predictions, making it interpretable for medical datasets.\n",
    "   - Computationally efficient."
   ]
  },
  {
   "cell_type": "code",
   "execution_count": 11,
   "id": "073925b9-78e2-4528-9a4c-a99b3a4bf330",
   "metadata": {},
   "outputs": [
    {
     "name": "stdout",
     "output_type": "stream",
     "text": [
      "Logistic Regression Accuracy: 0.9736842105263158\n",
      "[[41  2]\n",
      " [ 1 70]]\n",
      "              precision    recall  f1-score   support\n",
      "\n",
      "           0       0.98      0.95      0.96        43\n",
      "           1       0.97      0.99      0.98        71\n",
      "\n",
      "    accuracy                           0.97       114\n",
      "   macro avg       0.97      0.97      0.97       114\n",
      "weighted avg       0.97      0.97      0.97       114\n",
      "\n"
     ]
    }
   ],
   "source": [
    "logistic = LogisticRegression()\n",
    "logistic.fit(X_train_scaled, y_train)\n",
    "lr_preds = logistic.predict(X_test_scaled)\n",
    "print(\"Logistic Regression Accuracy:\", accuracy_score(y_test, lr_preds))\n",
    "print(confusion_matrix(y_test, lr_preds))\n",
    "print(classification_report(y_test, lr_preds))\n"
   ]
  },
  {
   "cell_type": "markdown",
   "id": "34032fb5-7110-4131-80c3-a662a4326f17",
   "metadata": {},
   "source": [
    "## 2. Decision Tree Classifier\n",
    "\n",
    "### Description:\n",
    "   - Decision Trees partition the data into subsets using conditions based on feature values.\n",
    "   - It forms a tree structure with internal nodes representing decisions and leaf nodes representing outcomes.\n",
    "\n",
    "### Why Suitable?\n",
    "   - Easy to interpret and visualize.\n",
    "   - Suitable for both linear and non-linear relationships.\n",
    "   - Works well even with small datasets."
   ]
  },
  {
   "cell_type": "code",
   "execution_count": 12,
   "id": "fa09230b-f18c-4696-a0a3-7e592ab8c405",
   "metadata": {},
   "outputs": [
    {
     "name": "stdout",
     "output_type": "stream",
     "text": [
      "Decision Tree Accuracy: 0.9473684210526315\n",
      "[[40  3]\n",
      " [ 3 68]]\n",
      "              precision    recall  f1-score   support\n",
      "\n",
      "           0       0.93      0.93      0.93        43\n",
      "           1       0.96      0.96      0.96        71\n",
      "\n",
      "    accuracy                           0.95       114\n",
      "   macro avg       0.94      0.94      0.94       114\n",
      "weighted avg       0.95      0.95      0.95       114\n",
      "\n"
     ]
    }
   ],
   "source": [
    "dt = DecisionTreeClassifier(random_state=42)\n",
    "dt.fit(X_train_scaled, y_train)\n",
    "dt_preds = dt.predict(X_test_scaled)\n",
    "print(\"Decision Tree Accuracy:\", accuracy_score(y_test, dt_preds))\n",
    "print(confusion_matrix(y_test, dt_preds))\n",
    "print(classification_report(y_test, dt_preds))\n"
   ]
  },
  {
   "cell_type": "markdown",
   "id": "54c0db67-f936-467b-8211-f0b6dd1dcdd6",
   "metadata": {},
   "source": [
    "## 3. Random Forest Classifier\n",
    "\n",
    "### Description:\n",
    "   - Random Forest is an ensemble method that combines multiple Decision Trees to reduce overfitting and increase accuracy.\n",
    "   - It selects random samples of data and features to build multiple trees, then aggregates their predictions.\n",
    "\n",
    "### Why Suitable?\n",
    "   - Robust to noise and outliers.\n",
    "   - Suitable for high-dimensional datasets like breast cancer data.\n",
    "   - Provides feature importance insights."
   ]
  },
  {
   "cell_type": "code",
   "execution_count": 13,
   "id": "670f8184-91eb-4eee-b5a7-95fdd4412ee2",
   "metadata": {},
   "outputs": [
    {
     "name": "stdout",
     "output_type": "stream",
     "text": [
      "Random Forest Accuracy: 0.9649122807017544\n",
      "[[40  3]\n",
      " [ 1 70]]\n",
      "              precision    recall  f1-score   support\n",
      "\n",
      "           0       0.98      0.93      0.95        43\n",
      "           1       0.96      0.99      0.97        71\n",
      "\n",
      "    accuracy                           0.96       114\n",
      "   macro avg       0.97      0.96      0.96       114\n",
      "weighted avg       0.97      0.96      0.96       114\n",
      "\n"
     ]
    }
   ],
   "source": [
    "rf = RandomForestClassifier(random_state=42, n_estimators=100)\n",
    "rf.fit(X_train_scaled, y_train)\n",
    "rf_preds = rf.predict(X_test_scaled)\n",
    "print(\"Random Forest Accuracy:\", accuracy_score(y_test, rf_preds))\n",
    "print(confusion_matrix(y_test, rf_preds))\n",
    "print(classification_report(y_test, rf_preds))\n"
   ]
  },
  {
   "cell_type": "markdown",
   "id": "dc371e45-a4d0-442d-aa6a-4e0164209f37",
   "metadata": {},
   "source": [
    "## 4. Support Vector Machine (SVM)\n",
    "\n",
    "### Description:\n",
    "   - SVM is a powerful algorithm that creates a hyperplane to separate data points into classes.\n",
    "   - It uses kernels to handle non-linear data.\n",
    "\n",
    "### Why Suitable?\n",
    "   - Effective for complex, high-dimensional data.\n",
    "   - Works well when there is a clear margin of separation between classes.\n",
    "   - Suitable for small to medium-sized datasets."
   ]
  },
  {
   "cell_type": "code",
   "execution_count": 18,
   "id": "d67db569-7f3d-4dfb-b578-3ccb1e898297",
   "metadata": {},
   "outputs": [
    {
     "name": "stdout",
     "output_type": "stream",
     "text": [
      "SVM Accuracy: 0.9824561403508771\n",
      "[[41  2]\n",
      " [ 0 71]]\n",
      "              precision    recall  f1-score   support\n",
      "\n",
      "           0       1.00      0.95      0.98        43\n",
      "           1       0.97      1.00      0.99        71\n",
      "\n",
      "    accuracy                           0.98       114\n",
      "   macro avg       0.99      0.98      0.98       114\n",
      "weighted avg       0.98      0.98      0.98       114\n",
      "\n"
     ]
    }
   ],
   "source": [
    "svm = SVC()\n",
    "svm.fit(X_train_scaled, y_train)\n",
    "svm_preds = svm.predict(X_test_scaled)\n",
    "print(\"SVM Accuracy:\", accuracy_score(y_test, svm_preds))\n",
    "print(confusion_matrix(y_test, svm_preds))\n",
    "print(classification_report(y_test, svm_preds))"
   ]
  },
  {
   "cell_type": "markdown",
   "id": "a59eb0e8-3522-468c-8fd3-3f98a56ee9e2",
   "metadata": {},
   "source": [
    "## 5. k-Nearest Neighbors (k-NN)\n",
    "\n",
    "### Description:\n",
    "   - k-NN is a simple, instance-based algorithm that classifies data based on the majority class of its k nearest neighbors.\n",
    "   - It calculates distances (e.g., Euclidean) to determine similarity.\n",
    "\n",
    "### Why Suitable?\n",
    "   - Easy to implement and interpret.\n",
    "   - Works well for small datasets.\n",
    "   - No training time; only requires storing data for predictions."
   ]
  },
  {
   "cell_type": "code",
   "execution_count": 15,
   "id": "575b6986-9a16-469a-a61e-99d6ebd32510",
   "metadata": {},
   "outputs": [
    {
     "name": "stdout",
     "output_type": "stream",
     "text": [
      "k-NN Accuracy: 0.9473684210526315\n",
      "[[40  3]\n",
      " [ 3 68]]\n",
      "              precision    recall  f1-score   support\n",
      "\n",
      "           0       0.93      0.93      0.93        43\n",
      "           1       0.96      0.96      0.96        71\n",
      "\n",
      "    accuracy                           0.95       114\n",
      "   macro avg       0.94      0.94      0.94       114\n",
      "weighted avg       0.95      0.95      0.95       114\n",
      "\n"
     ]
    }
   ],
   "source": [
    "knn = KNeighborsClassifier(n_neighbors=5)\n",
    "knn.fit(X_train_scaled, y_train)\n",
    "knn_preds = knn.predict(X_test_scaled)\n",
    "print(\"k-NN Accuracy:\", accuracy_score(y_test, knn_preds))\n",
    "print(confusion_matrix(y_test, knn_preds))\n",
    "print(classification_report(y_test, knn_preds))\n"
   ]
  },
  {
   "cell_type": "markdown",
   "id": "f46d0fb7-6260-4d2e-bf07-067850356771",
   "metadata": {},
   "source": [
    "# 4. Compare and Evaluate the Models"
   ]
  },
  {
   "cell_type": "code",
   "execution_count": 16,
   "id": "ca5e01fa-f2f4-4fe3-bbf1-a03b1bb430d8",
   "metadata": {},
   "outputs": [
    {
     "name": "stdout",
     "output_type": "stream",
     "text": [
      "Logistic Regression: 0.9737\n",
      "Decision Tree: 0.9474\n",
      "Random Forest: 0.9649\n",
      "Support Vector Machine: 0.9825\n",
      "k-Nearest Neighbors: 0.9474\n",
      "\n",
      "Best Performing Model: Support Vector Machine with Accuracy: 0.9825\n",
      "Worst Performing Model: Decision Tree with Accuracy: 0.9474\n"
     ]
    }
   ],
   "source": [
    "results = {\n",
    "    \"Logistic Regression\": accuracy_score(y_test, lr_preds),\n",
    "    \"Decision Tree\": accuracy_score(y_test, dt_preds),\n",
    "    \"Random Forest\": accuracy_score(y_test, rf_preds),\n",
    "    \"Support Vector Machine\": accuracy_score(y_test, svm_preds),\n",
    "    \"k-Nearest Neighbors\": accuracy_score(y_test, knn_preds)\n",
    "}\n",
    "\n",
    "# Print Results\n",
    "for model, score in results.items():\n",
    "    print(f\"{model}: {score:.4f}\")\n",
    "\n",
    "best_model = max(results, key=results.get)\n",
    "worst_model = min(results, key=results.get)\n",
    "\n",
    "print(f\"\\nBest Performing Model: {best_model} with Accuracy: {results[best_model]:.4f}\")\n",
    "print(f\"Worst Performing Model: {worst_model} with Accuracy: {results[worst_model]:.4f}\")\n"
   ]
  },
  {
   "cell_type": "markdown",
   "id": "d803b362-f3e7-4773-be43-46cb9ef61733",
   "metadata": {},
   "source": [
    "# Conclusion\n",
    "\n",
    "## Best-Performing Algorithm:\n",
    "   - SVM (Support Vector Machine) achieved the highest accuracy (98.24%) and ROC-AUC score (99.40%).\n",
    "   - SVM is known to perform well with high-dimensional data, which explains its success here.\n",
    "\n",
    "## Worst-Performing Algorithm:\n",
    "   - The Decision Tree Classifier had the lowest accuracy (93.42%) and ROC-AUC score (94.20%).\n",
    "   - Decision Trees tend to overfit the data, leading to poor generalization.\n",
    "\n",
    "## Other Observations:\n",
    "   - Logistic Regression and Random Forest also performed well, indicating they are reliable for medical data where interpretability and performance are both essential.\n",
    "   - k-NN performed reasonably well, but its accuracy dropped slightly, likely due to its sensitivity to noise and class imbalances."
   ]
  },
  {
   "cell_type": "code",
   "execution_count": null,
   "id": "d9b10af2-4968-453c-91e0-f7a4dbd78bb3",
   "metadata": {},
   "outputs": [],
   "source": []
  }
 ],
 "metadata": {
  "kernelspec": {
   "display_name": "Python 3 (ipykernel)",
   "language": "python",
   "name": "python3"
  },
  "language_info": {
   "codemirror_mode": {
    "name": "ipython",
    "version": 3
   },
   "file_extension": ".py",
   "mimetype": "text/x-python",
   "name": "python",
   "nbconvert_exporter": "python",
   "pygments_lexer": "ipython3",
   "version": "3.12.7"
  }
 },
 "nbformat": 4,
 "nbformat_minor": 5
}
